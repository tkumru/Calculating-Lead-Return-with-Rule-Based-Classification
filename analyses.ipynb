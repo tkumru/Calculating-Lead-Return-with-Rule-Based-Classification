{
 "cells": [
  {
   "cell_type": "markdown",
   "metadata": {},
   "source": [
    "## Calculating Lead Return with Rule-Based Classification\n",
    "\n",
    "In this project, I calculate average income from upcoming customer. I use customer's preferences for calculating. I will make level-based new customer definitions.\n",
    "\n",
    "**For example**,*What is average income from a person who is 25 years old from Turkey?*\n",
    "\n",
    "### Project Purpose And Steps\n",
    "* Thinking about the concept of persona\n",
    "* To be able to define new customers according to the levels.\n",
    "* Simply segment new customer definitions using the qcut funtion.\n",
    "* When a new customer arrives, classify them according to segment"
   ]
  },
  {
   "cell_type": "code",
   "execution_count": 3,
   "metadata": {},
   "outputs": [],
   "source": [
    "import pandas as pd\n",
    "import numpy as np\n",
    "\n",
    "import seaborn as sns\n",
    "import matplotlib.pyplot as plt"
   ]
  },
  {
   "cell_type": "markdown",
   "metadata": {},
   "source": [
    "Firstly load data from csv file:"
   ]
  },
  {
   "cell_type": "code",
   "execution_count": 4,
   "metadata": {},
   "outputs": [],
   "source": [
    "df = pd.read_csv('persona.csv')"
   ]
  },
  {
   "cell_type": "markdown",
   "metadata": {},
   "source": [
    "After that showing data:"
   ]
  },
  {
   "cell_type": "code",
   "execution_count": 5,
   "metadata": {},
   "outputs": [
    {
     "data": {
      "text/html": [
       "<div>\n",
       "<style scoped>\n",
       "    .dataframe tbody tr th:only-of-type {\n",
       "        vertical-align: middle;\n",
       "    }\n",
       "\n",
       "    .dataframe tbody tr th {\n",
       "        vertical-align: top;\n",
       "    }\n",
       "\n",
       "    .dataframe thead th {\n",
       "        text-align: right;\n",
       "    }\n",
       "</style>\n",
       "<table border=\"1\" class=\"dataframe\">\n",
       "  <thead>\n",
       "    <tr style=\"text-align: right;\">\n",
       "      <th></th>\n",
       "      <th>PRICE</th>\n",
       "      <th>SOURCE</th>\n",
       "      <th>SEX</th>\n",
       "      <th>COUNTRY</th>\n",
       "      <th>AGE</th>\n",
       "    </tr>\n",
       "  </thead>\n",
       "  <tbody>\n",
       "    <tr>\n",
       "      <th>0</th>\n",
       "      <td>39</td>\n",
       "      <td>android</td>\n",
       "      <td>male</td>\n",
       "      <td>bra</td>\n",
       "      <td>17</td>\n",
       "    </tr>\n",
       "    <tr>\n",
       "      <th>1</th>\n",
       "      <td>39</td>\n",
       "      <td>android</td>\n",
       "      <td>male</td>\n",
       "      <td>bra</td>\n",
       "      <td>17</td>\n",
       "    </tr>\n",
       "    <tr>\n",
       "      <th>2</th>\n",
       "      <td>49</td>\n",
       "      <td>android</td>\n",
       "      <td>male</td>\n",
       "      <td>bra</td>\n",
       "      <td>17</td>\n",
       "    </tr>\n",
       "    <tr>\n",
       "      <th>3</th>\n",
       "      <td>29</td>\n",
       "      <td>android</td>\n",
       "      <td>male</td>\n",
       "      <td>tur</td>\n",
       "      <td>17</td>\n",
       "    </tr>\n",
       "    <tr>\n",
       "      <th>4</th>\n",
       "      <td>49</td>\n",
       "      <td>android</td>\n",
       "      <td>male</td>\n",
       "      <td>tur</td>\n",
       "      <td>17</td>\n",
       "    </tr>\n",
       "  </tbody>\n",
       "</table>\n",
       "</div>"
      ],
      "text/plain": [
       "   PRICE   SOURCE   SEX COUNTRY  AGE\n",
       "0     39  android  male     bra   17\n",
       "1     39  android  male     bra   17\n",
       "2     49  android  male     bra   17\n",
       "3     29  android  male     tur   17\n",
       "4     49  android  male     tur   17"
      ]
     },
     "execution_count": 5,
     "metadata": {},
     "output_type": "execute_result"
    }
   ],
   "source": [
    "df.head(5)"
   ]
  },
  {
   "cell_type": "code",
   "execution_count": 6,
   "metadata": {},
   "outputs": [
    {
     "name": "stdout",
     "output_type": "stream",
     "text": [
      "<class 'pandas.core.frame.DataFrame'>\n",
      "Int64Index: 5000 entries, 0 to 4999\n",
      "Data columns (total 5 columns):\n",
      " #   Column   Non-Null Count  Dtype \n",
      "---  ------   --------------  ----- \n",
      " 0   PRICE    5000 non-null   int64 \n",
      " 1   SOURCE   5000 non-null   object\n",
      " 2   SEX      5000 non-null   object\n",
      " 3   COUNTRY  5000 non-null   object\n",
      " 4   AGE      5000 non-null   int64 \n",
      "dtypes: int64(2), object(3)\n",
      "memory usage: 234.4+ KB\n"
     ]
    }
   ],
   "source": [
    "df.info()"
   ]
  },
  {
   "cell_type": "markdown",
   "metadata": {},
   "source": [
    "As we see that we have for futures in data. All datas are non-null. SOURCE, SEX and COUNTRY datas are categorical data if they are not cardinal."
   ]
  },
  {
   "cell_type": "markdown",
   "metadata": {},
   "source": [
    "### Unique Controls"
   ]
  },
  {
   "cell_type": "code",
   "execution_count": 7,
   "metadata": {},
   "outputs": [
    {
     "data": {
      "text/plain": [
       "2"
      ]
     },
     "execution_count": 7,
     "metadata": {},
     "output_type": "execute_result"
    }
   ],
   "source": [
    "df[\"SOURCE\"].nunique()"
   ]
  },
  {
   "cell_type": "markdown",
   "metadata": {},
   "source": [
    "For SOURCE data, we have two unique data."
   ]
  },
  {
   "cell_type": "code",
   "execution_count": 8,
   "metadata": {},
   "outputs": [
    {
     "data": {
      "text/plain": [
       "<AxesSubplot:>"
      ]
     },
     "execution_count": 8,
     "metadata": {},
     "output_type": "execute_result"
    },
    {
     "data": {
      "image/png": "[encoded data removed]",
      "text/plain": [
       "<Figure size 432x288 with 1 Axes>"
      ]
     },
     "metadata": {
      "needs_background": "light"
     },
     "output_type": "display_data"
    }
   ],
   "source": [
    "df[\"SOURCE\"].hist()"
   ]
  },
  {
   "cell_type": "markdown",
   "metadata": {},
   "source": [
    "Nearly 2000 customers use android and nearly 3000 customers use android. As we saw SOURCE data is categorical data."
   ]
  },
  {
   "cell_type": "code",
   "execution_count": 9,
   "metadata": {},
   "outputs": [
    {
     "data": {
      "text/plain": [
       "6"
      ]
     },
     "execution_count": 9,
     "metadata": {},
     "output_type": "execute_result"
    }
   ],
   "source": [
    "df[\"PRICE\"].nunique()"
   ]
  },
  {
   "cell_type": "markdown",
   "metadata": {},
   "source": [
    "For PRICE data, we have six unique data."
   ]
  },
  {
   "cell_type": "code",
   "execution_count": 10,
   "metadata": {},
   "outputs": [
    {
     "data": {
      "text/plain": [
       "<AxesSubplot:>"
      ]
     },
     "execution_count": 10,
     "metadata": {},
     "output_type": "execute_result"
    },
    {
     "data": {
      "image/png": "[encoded data removed]",
      "text/plain": [
       "<Figure size 432x288 with 1 Axes>"
      ]
     },
     "metadata": {
      "needs_background": "light"
     },
     "output_type": "display_data"
    }
   ],
   "source": [
    "df[\"PRICE\"].hist()"
   ]
  },
  {
   "cell_type": "markdown",
   "metadata": {},
   "source": [
    "This histograms show us how many sold phone which price."
   ]
  },
  {
   "cell_type": "code",
   "execution_count": 11,
   "metadata": {},
   "outputs": [
    {
     "data": {
      "text/plain": [
       "<AxesSubplot:>"
      ]
     },
     "execution_count": 11,
     "metadata": {},
     "output_type": "execute_result"
    },
    {
     "data": {
      "image/png": "[encoded data removed]",
      "text/plain": [
       "<Figure size 432x288 with 1 Axes>"
      ]
     },
     "metadata": {
      "needs_background": "light"
     },
     "output_type": "display_data"
    }
   ],
   "source": [
    "df[\"COUNTRY\"].hist()"
   ]
  },
  {
   "cell_type": "markdown",
   "metadata": {},
   "source": [
    "This histogram shows us sold phone numbers about countries."
   ]
  },
  {
   "cell_type": "code",
   "execution_count": 12,
   "metadata": {},
   "outputs": [
    {
     "data": {
      "text/plain": [
       "COUNTRY\n",
       "bra    51354\n",
       "can     7730\n",
       "deu    15485\n",
       "fra    10177\n",
       "tur    15689\n",
       "usa    70225\n",
       "Name: PRICE, dtype: int64"
      ]
     },
     "execution_count": 12,
     "metadata": {},
     "output_type": "execute_result"
    }
   ],
   "source": [
    "df.groupby(\"COUNTRY\")[\"PRICE\"].sum()"
   ]
  },
  {
   "cell_type": "markdown",
   "metadata": {},
   "source": [
    "On the above, total price for countries. When we are interested in, USA is the first to buying phone."
   ]
  },
  {
   "cell_type": "markdown",
   "metadata": {},
   "source": [
    "### Income Means for Features"
   ]
  },
  {
   "cell_type": "code",
   "execution_count": 13,
   "metadata": {},
   "outputs": [
    {
     "data": {
      "text/plain": [
       "COUNTRY\n",
       "bra    34.327540\n",
       "can    33.608696\n",
       "deu    34.032967\n",
       "fra    33.587459\n",
       "tur    34.787140\n",
       "usa    34.007264\n",
       "Name: PRICE, dtype: float64"
      ]
     },
     "execution_count": 13,
     "metadata": {},
     "output_type": "execute_result"
    }
   ],
   "source": [
    "df.groupby(\"COUNTRY\")[\"PRICE\"].mean()"
   ]
  },
  {
   "cell_type": "markdown",
   "metadata": {},
   "source": [
    "These outputs are the mean prices for countries."
   ]
  },
  {
   "cell_type": "code",
   "execution_count": 14,
   "metadata": {},
   "outputs": [
    {
     "data": {
      "text/plain": [
       "SOURCE\n",
       "android    34.174849\n",
       "ios        34.069102\n",
       "Name: PRICE, dtype: float64"
      ]
     },
     "execution_count": 14,
     "metadata": {},
     "output_type": "execute_result"
    }
   ],
   "source": [
    "df.groupby(\"SOURCE\")[\"PRICE\"].mean()"
   ]
  },
  {
   "cell_type": "markdown",
   "metadata": {},
   "source": [
    "For the SOURCE, ios is cheaper than android."
   ]
  },
  {
   "cell_type": "code",
   "execution_count": 15,
   "metadata": {},
   "outputs": [
    {
     "data": {
      "text/html": [
       "<div>\n",
       "<style scoped>\n",
       "    .dataframe tbody tr th:only-of-type {\n",
       "        vertical-align: middle;\n",
       "    }\n",
       "\n",
       "    .dataframe tbody tr th {\n",
       "        vertical-align: top;\n",
       "    }\n",
       "\n",
       "    .dataframe thead tr th {\n",
       "        text-align: left;\n",
       "    }\n",
       "\n",
       "    .dataframe thead tr:last-of-type th {\n",
       "        text-align: right;\n",
       "    }\n",
       "</style>\n",
       "<table border=\"1\" class=\"dataframe\">\n",
       "  <thead>\n",
       "    <tr>\n",
       "      <th></th>\n",
       "      <th></th>\n",
       "      <th>PRICE</th>\n",
       "    </tr>\n",
       "    <tr>\n",
       "      <th></th>\n",
       "      <th></th>\n",
       "      <th>mean</th>\n",
       "    </tr>\n",
       "    <tr>\n",
       "      <th>COUNTRY</th>\n",
       "      <th>SOURCE</th>\n",
       "      <th></th>\n",
       "    </tr>\n",
       "  </thead>\n",
       "  <tbody>\n",
       "    <tr>\n",
       "      <th rowspan=\"2\" valign=\"top\">bra</th>\n",
       "      <th>android</th>\n",
       "      <td>34.387029</td>\n",
       "    </tr>\n",
       "    <tr>\n",
       "      <th>ios</th>\n",
       "      <td>34.222222</td>\n",
       "    </tr>\n",
       "    <tr>\n",
       "      <th rowspan=\"2\" valign=\"top\">can</th>\n",
       "      <th>android</th>\n",
       "      <td>33.330709</td>\n",
       "    </tr>\n",
       "    <tr>\n",
       "      <th>ios</th>\n",
       "      <td>33.951456</td>\n",
       "    </tr>\n",
       "    <tr>\n",
       "      <th rowspan=\"2\" valign=\"top\">deu</th>\n",
       "      <th>android</th>\n",
       "      <td>33.869888</td>\n",
       "    </tr>\n",
       "    <tr>\n",
       "      <th>ios</th>\n",
       "      <td>34.268817</td>\n",
       "    </tr>\n",
       "    <tr>\n",
       "      <th rowspan=\"2\" valign=\"top\">fra</th>\n",
       "      <th>android</th>\n",
       "      <td>34.312500</td>\n",
       "    </tr>\n",
       "    <tr>\n",
       "      <th>ios</th>\n",
       "      <td>32.776224</td>\n",
       "    </tr>\n",
       "    <tr>\n",
       "      <th rowspan=\"2\" valign=\"top\">tur</th>\n",
       "      <th>android</th>\n",
       "      <td>36.229437</td>\n",
       "    </tr>\n",
       "    <tr>\n",
       "      <th>ios</th>\n",
       "      <td>33.272727</td>\n",
       "    </tr>\n",
       "    <tr>\n",
       "      <th rowspan=\"2\" valign=\"top\">usa</th>\n",
       "      <th>android</th>\n",
       "      <td>33.760357</td>\n",
       "    </tr>\n",
       "    <tr>\n",
       "      <th>ios</th>\n",
       "      <td>34.371703</td>\n",
       "    </tr>\n",
       "  </tbody>\n",
       "</table>\n",
       "</div>"
      ],
      "text/plain": [
       "                     PRICE\n",
       "                      mean\n",
       "COUNTRY SOURCE            \n",
       "bra     android  34.387029\n",
       "        ios      34.222222\n",
       "can     android  33.330709\n",
       "        ios      33.951456\n",
       "deu     android  33.869888\n",
       "        ios      34.268817\n",
       "fra     android  34.312500\n",
       "        ios      32.776224\n",
       "tur     android  36.229437\n",
       "        ios      33.272727\n",
       "usa     android  33.760357\n",
       "        ios      34.371703"
      ]
     },
     "execution_count": 15,
     "metadata": {},
     "output_type": "execute_result"
    }
   ],
   "source": [
    "df.groupby([\"COUNTRY\", \"SOURCE\"]).agg({\"PRICE\": [\"mean\"]})"
   ]
  },
  {
   "cell_type": "markdown",
   "metadata": {},
   "source": [
    "On the above, It is price mean for country-source groups."
   ]
  },
  {
   "cell_type": "code",
   "execution_count": 16,
   "metadata": {},
   "outputs": [
    {
     "data": {
      "text/html": [
       "<div>\n",
       "<style scoped>\n",
       "    .dataframe tbody tr th:only-of-type {\n",
       "        vertical-align: middle;\n",
       "    }\n",
       "\n",
       "    .dataframe tbody tr th {\n",
       "        vertical-align: top;\n",
       "    }\n",
       "\n",
       "    .dataframe thead tr th {\n",
       "        text-align: left;\n",
       "    }\n",
       "\n",
       "    .dataframe thead tr:last-of-type th {\n",
       "        text-align: right;\n",
       "    }\n",
       "</style>\n",
       "<table border=\"1\" class=\"dataframe\">\n",
       "  <thead>\n",
       "    <tr>\n",
       "      <th></th>\n",
       "      <th></th>\n",
       "      <th></th>\n",
       "      <th></th>\n",
       "      <th>PRICE</th>\n",
       "    </tr>\n",
       "    <tr>\n",
       "      <th></th>\n",
       "      <th></th>\n",
       "      <th></th>\n",
       "      <th></th>\n",
       "      <th>mean</th>\n",
       "    </tr>\n",
       "    <tr>\n",
       "      <th>COUNTRY</th>\n",
       "      <th>SOURCE</th>\n",
       "      <th>SEX</th>\n",
       "      <th>AGE</th>\n",
       "      <th></th>\n",
       "    </tr>\n",
       "  </thead>\n",
       "  <tbody>\n",
       "    <tr>\n",
       "      <th rowspan=\"5\" valign=\"top\">bra</th>\n",
       "      <th rowspan=\"5\" valign=\"top\">android</th>\n",
       "      <th rowspan=\"5\" valign=\"top\">female</th>\n",
       "      <th>15</th>\n",
       "      <td>38.714286</td>\n",
       "    </tr>\n",
       "    <tr>\n",
       "      <th>16</th>\n",
       "      <td>35.944444</td>\n",
       "    </tr>\n",
       "    <tr>\n",
       "      <th>17</th>\n",
       "      <td>35.666667</td>\n",
       "    </tr>\n",
       "    <tr>\n",
       "      <th>18</th>\n",
       "      <td>32.255814</td>\n",
       "    </tr>\n",
       "    <tr>\n",
       "      <th>19</th>\n",
       "      <td>35.206897</td>\n",
       "    </tr>\n",
       "    <tr>\n",
       "      <th>...</th>\n",
       "      <th>...</th>\n",
       "      <th>...</th>\n",
       "      <th>...</th>\n",
       "      <td>...</td>\n",
       "    </tr>\n",
       "    <tr>\n",
       "      <th rowspan=\"5\" valign=\"top\">usa</th>\n",
       "      <th rowspan=\"5\" valign=\"top\">ios</th>\n",
       "      <th rowspan=\"5\" valign=\"top\">male</th>\n",
       "      <th>42</th>\n",
       "      <td>30.250000</td>\n",
       "    </tr>\n",
       "    <tr>\n",
       "      <th>50</th>\n",
       "      <td>39.000000</td>\n",
       "    </tr>\n",
       "    <tr>\n",
       "      <th>53</th>\n",
       "      <td>34.000000</td>\n",
       "    </tr>\n",
       "    <tr>\n",
       "      <th>55</th>\n",
       "      <td>29.000000</td>\n",
       "    </tr>\n",
       "    <tr>\n",
       "      <th>59</th>\n",
       "      <td>46.500000</td>\n",
       "    </tr>\n",
       "  </tbody>\n",
       "</table>\n",
       "<p>348 rows × 1 columns</p>\n",
       "</div>"
      ],
      "text/plain": [
       "                                PRICE\n",
       "                                 mean\n",
       "COUNTRY SOURCE  SEX    AGE           \n",
       "bra     android female 15   38.714286\n",
       "                       16   35.944444\n",
       "                       17   35.666667\n",
       "                       18   32.255814\n",
       "                       19   35.206897\n",
       "...                               ...\n",
       "usa     ios     male   42   30.250000\n",
       "                       50   39.000000\n",
       "                       53   34.000000\n",
       "                       55   29.000000\n",
       "                       59   46.500000\n",
       "\n",
       "[348 rows x 1 columns]"
      ]
     },
     "execution_count": 16,
     "metadata": {},
     "output_type": "execute_result"
    }
   ],
   "source": [
    "df.groupby([\"COUNTRY\", \"SOURCE\", \"SEX\", \"AGE\"]).agg({\"PRICE\": [\"mean\"]})"
   ]
  },
  {
   "cell_type": "markdown",
   "metadata": {},
   "source": [
    "On the above, It is price mean for country-source-sex-age groups."
   ]
  },
  {
   "cell_type": "code",
   "execution_count": 17,
   "metadata": {},
   "outputs": [
    {
     "data": {
      "text/plain": [
       "COUNTRY  SOURCE   SEX     AGE\n",
       "bra      android  male    46     59.0\n",
       "usa      android  male    36     59.0\n",
       "fra      android  female  24     59.0\n",
       "usa      ios      male    32     54.0\n",
       "deu      android  female  36     49.0\n",
       "                                 ... \n",
       "usa      ios      female  38     19.0\n",
       "                          30     19.0\n",
       "can      android  female  27     19.0\n",
       "fra      android  male    18     19.0\n",
       "deu      android  male    26      9.0\n",
       "Name: PRICE, Length: 348, dtype: float64"
      ]
     },
     "execution_count": 17,
     "metadata": {},
     "output_type": "execute_result"
    }
   ],
   "source": [
    "agg_df = df.groupby([\"COUNTRY\", \"SOURCE\", \"SEX\", \"AGE\"])[\"PRICE\"].mean().sort_values(ascending=False)\n",
    "agg_df"
   ]
  },
  {
   "cell_type": "code",
   "execution_count": 18,
   "metadata": {},
   "outputs": [
    {
     "data": {
      "text/html": [
       "<div>\n",
       "<style scoped>\n",
       "    .dataframe tbody tr th:only-of-type {\n",
       "        vertical-align: middle;\n",
       "    }\n",
       "\n",
       "    .dataframe tbody tr th {\n",
       "        vertical-align: top;\n",
       "    }\n",
       "\n",
       "    .dataframe thead th {\n",
       "        text-align: right;\n",
       "    }\n",
       "</style>\n",
       "<table border=\"1\" class=\"dataframe\">\n",
       "  <thead>\n",
       "    <tr style=\"text-align: right;\">\n",
       "      <th></th>\n",
       "      <th>COUNTRY</th>\n",
       "      <th>SOURCE</th>\n",
       "      <th>SEX</th>\n",
       "      <th>AGE</th>\n",
       "      <th>PRICE</th>\n",
       "    </tr>\n",
       "  </thead>\n",
       "  <tbody>\n",
       "    <tr>\n",
       "      <th>0</th>\n",
       "      <td>bra</td>\n",
       "      <td>android</td>\n",
       "      <td>male</td>\n",
       "      <td>46</td>\n",
       "      <td>59.0</td>\n",
       "    </tr>\n",
       "    <tr>\n",
       "      <th>1</th>\n",
       "      <td>usa</td>\n",
       "      <td>android</td>\n",
       "      <td>male</td>\n",
       "      <td>36</td>\n",
       "      <td>59.0</td>\n",
       "    </tr>\n",
       "    <tr>\n",
       "      <th>2</th>\n",
       "      <td>fra</td>\n",
       "      <td>android</td>\n",
       "      <td>female</td>\n",
       "      <td>24</td>\n",
       "      <td>59.0</td>\n",
       "    </tr>\n",
       "    <tr>\n",
       "      <th>3</th>\n",
       "      <td>usa</td>\n",
       "      <td>ios</td>\n",
       "      <td>male</td>\n",
       "      <td>32</td>\n",
       "      <td>54.0</td>\n",
       "    </tr>\n",
       "    <tr>\n",
       "      <th>4</th>\n",
       "      <td>deu</td>\n",
       "      <td>android</td>\n",
       "      <td>female</td>\n",
       "      <td>36</td>\n",
       "      <td>49.0</td>\n",
       "    </tr>\n",
       "    <tr>\n",
       "      <th>...</th>\n",
       "      <td>...</td>\n",
       "      <td>...</td>\n",
       "      <td>...</td>\n",
       "      <td>...</td>\n",
       "      <td>...</td>\n",
       "    </tr>\n",
       "    <tr>\n",
       "      <th>343</th>\n",
       "      <td>usa</td>\n",
       "      <td>ios</td>\n",
       "      <td>female</td>\n",
       "      <td>38</td>\n",
       "      <td>19.0</td>\n",
       "    </tr>\n",
       "    <tr>\n",
       "      <th>344</th>\n",
       "      <td>usa</td>\n",
       "      <td>ios</td>\n",
       "      <td>female</td>\n",
       "      <td>30</td>\n",
       "      <td>19.0</td>\n",
       "    </tr>\n",
       "    <tr>\n",
       "      <th>345</th>\n",
       "      <td>can</td>\n",
       "      <td>android</td>\n",
       "      <td>female</td>\n",
       "      <td>27</td>\n",
       "      <td>19.0</td>\n",
       "    </tr>\n",
       "    <tr>\n",
       "      <th>346</th>\n",
       "      <td>fra</td>\n",
       "      <td>android</td>\n",
       "      <td>male</td>\n",
       "      <td>18</td>\n",
       "      <td>19.0</td>\n",
       "    </tr>\n",
       "    <tr>\n",
       "      <th>347</th>\n",
       "      <td>deu</td>\n",
       "      <td>android</td>\n",
       "      <td>male</td>\n",
       "      <td>26</td>\n",
       "      <td>9.0</td>\n",
       "    </tr>\n",
       "  </tbody>\n",
       "</table>\n",
       "<p>348 rows × 5 columns</p>\n",
       "</div>"
      ],
      "text/plain": [
       "    COUNTRY   SOURCE     SEX  AGE  PRICE\n",
       "0       bra  android    male   46   59.0\n",
       "1       usa  android    male   36   59.0\n",
       "2       fra  android  female   24   59.0\n",
       "3       usa      ios    male   32   54.0\n",
       "4       deu  android  female   36   49.0\n",
       "..      ...      ...     ...  ...    ...\n",
       "343     usa      ios  female   38   19.0\n",
       "344     usa      ios  female   30   19.0\n",
       "345     can  android  female   27   19.0\n",
       "346     fra  android    male   18   19.0\n",
       "347     deu  android    male   26    9.0\n",
       "\n",
       "[348 rows x 5 columns]"
      ]
     },
     "execution_count": 18,
     "metadata": {},
     "output_type": "execute_result"
    }
   ],
   "source": [
    "agg_df = agg_df.reset_index()\n",
    "agg_df"
   ]
  },
  {
   "cell_type": "markdown",
   "metadata": {},
   "source": [
    "I added index to dataframe in here."
   ]
  },
  {
   "cell_type": "markdown",
   "metadata": {},
   "source": [
    "Let's do AGE to categoric values for understanding."
   ]
  },
  {
   "cell_type": "code",
   "execution_count": 19,
   "metadata": {},
   "outputs": [],
   "source": [
    "def set_age_range(age):\n",
    "    \"\"\"\n",
    "    This function gives us age range for the input age.\n",
    "\n",
    "    Args:\n",
    "        age (int): age\n",
    "    \n",
    "    Returns:\n",
    "        age_range: '0_18', '19_23', '24_30', '31_40', '41_70'\n",
    "    \"\"\"\n",
    "\n",
    "    if 18 >= age >= 0:\n",
    "        return '0_18'\n",
    "\n",
    "    elif 23 >= age >= 19:\n",
    "        return '19_23'\n",
    "\n",
    "    elif 40 >= age >= 31:\n",
    "        return '24_30'\n",
    "    \n",
    "    elif 70 >= age >= 41:\n",
    "        return '31_40'\n",
    "    \n",
    "    else:\n",
    "        return '41_70'"
   ]
  },
  {
   "cell_type": "code",
   "execution_count": 20,
   "metadata": {},
   "outputs": [
    {
     "data": {
      "text/html": [
       "<div>\n",
       "<style scoped>\n",
       "    .dataframe tbody tr th:only-of-type {\n",
       "        vertical-align: middle;\n",
       "    }\n",
       "\n",
       "    .dataframe tbody tr th {\n",
       "        vertical-align: top;\n",
       "    }\n",
       "\n",
       "    .dataframe thead th {\n",
       "        text-align: right;\n",
       "    }\n",
       "</style>\n",
       "<table border=\"1\" class=\"dataframe\">\n",
       "  <thead>\n",
       "    <tr style=\"text-align: right;\">\n",
       "      <th></th>\n",
       "      <th>COUNTRY</th>\n",
       "      <th>SOURCE</th>\n",
       "      <th>SEX</th>\n",
       "      <th>AGE</th>\n",
       "      <th>PRICE</th>\n",
       "      <th>AGE_CAT</th>\n",
       "    </tr>\n",
       "  </thead>\n",
       "  <tbody>\n",
       "    <tr>\n",
       "      <th>0</th>\n",
       "      <td>bra</td>\n",
       "      <td>android</td>\n",
       "      <td>male</td>\n",
       "      <td>46</td>\n",
       "      <td>59.0</td>\n",
       "      <td>31_40</td>\n",
       "    </tr>\n",
       "    <tr>\n",
       "      <th>1</th>\n",
       "      <td>usa</td>\n",
       "      <td>android</td>\n",
       "      <td>male</td>\n",
       "      <td>36</td>\n",
       "      <td>59.0</td>\n",
       "      <td>24_30</td>\n",
       "    </tr>\n",
       "    <tr>\n",
       "      <th>2</th>\n",
       "      <td>fra</td>\n",
       "      <td>android</td>\n",
       "      <td>female</td>\n",
       "      <td>24</td>\n",
       "      <td>59.0</td>\n",
       "      <td>41_70</td>\n",
       "    </tr>\n",
       "    <tr>\n",
       "      <th>3</th>\n",
       "      <td>usa</td>\n",
       "      <td>ios</td>\n",
       "      <td>male</td>\n",
       "      <td>32</td>\n",
       "      <td>54.0</td>\n",
       "      <td>24_30</td>\n",
       "    </tr>\n",
       "    <tr>\n",
       "      <th>4</th>\n",
       "      <td>deu</td>\n",
       "      <td>android</td>\n",
       "      <td>female</td>\n",
       "      <td>36</td>\n",
       "      <td>49.0</td>\n",
       "      <td>24_30</td>\n",
       "    </tr>\n",
       "    <tr>\n",
       "      <th>...</th>\n",
       "      <td>...</td>\n",
       "      <td>...</td>\n",
       "      <td>...</td>\n",
       "      <td>...</td>\n",
       "      <td>...</td>\n",
       "      <td>...</td>\n",
       "    </tr>\n",
       "    <tr>\n",
       "      <th>343</th>\n",
       "      <td>usa</td>\n",
       "      <td>ios</td>\n",
       "      <td>female</td>\n",
       "      <td>38</td>\n",
       "      <td>19.0</td>\n",
       "      <td>24_30</td>\n",
       "    </tr>\n",
       "    <tr>\n",
       "      <th>344</th>\n",
       "      <td>usa</td>\n",
       "      <td>ios</td>\n",
       "      <td>female</td>\n",
       "      <td>30</td>\n",
       "      <td>19.0</td>\n",
       "      <td>41_70</td>\n",
       "    </tr>\n",
       "    <tr>\n",
       "      <th>345</th>\n",
       "      <td>can</td>\n",
       "      <td>android</td>\n",
       "      <td>female</td>\n",
       "      <td>27</td>\n",
       "      <td>19.0</td>\n",
       "      <td>41_70</td>\n",
       "    </tr>\n",
       "    <tr>\n",
       "      <th>346</th>\n",
       "      <td>fra</td>\n",
       "      <td>android</td>\n",
       "      <td>male</td>\n",
       "      <td>18</td>\n",
       "      <td>19.0</td>\n",
       "      <td>0_18</td>\n",
       "    </tr>\n",
       "    <tr>\n",
       "      <th>347</th>\n",
       "      <td>deu</td>\n",
       "      <td>android</td>\n",
       "      <td>male</td>\n",
       "      <td>26</td>\n",
       "      <td>9.0</td>\n",
       "      <td>41_70</td>\n",
       "    </tr>\n",
       "  </tbody>\n",
       "</table>\n",
       "<p>348 rows × 6 columns</p>\n",
       "</div>"
      ],
      "text/plain": [
       "    COUNTRY   SOURCE     SEX  AGE  PRICE AGE_CAT\n",
       "0       bra  android    male   46   59.0   31_40\n",
       "1       usa  android    male   36   59.0   24_30\n",
       "2       fra  android  female   24   59.0   41_70\n",
       "3       usa      ios    male   32   54.0   24_30\n",
       "4       deu  android  female   36   49.0   24_30\n",
       "..      ...      ...     ...  ...    ...     ...\n",
       "343     usa      ios  female   38   19.0   24_30\n",
       "344     usa      ios  female   30   19.0   41_70\n",
       "345     can  android  female   27   19.0   41_70\n",
       "346     fra  android    male   18   19.0    0_18\n",
       "347     deu  android    male   26    9.0   41_70\n",
       "\n",
       "[348 rows x 6 columns]"
      ]
     },
     "execution_count": 20,
     "metadata": {},
     "output_type": "execute_result"
    }
   ],
   "source": [
    "age_cat = [set_age_range(age) for age in agg_df[\"AGE\"].values]\n",
    "agg_df[\"AGE_CAT\"] = age_cat\n",
    "agg_df"
   ]
  },
  {
   "cell_type": "markdown",
   "metadata": {},
   "source": [
    "I categorize to age because I want to see phone usage for age range."
   ]
  },
  {
   "cell_type": "markdown",
   "metadata": {},
   "source": [
    "### Level Based Persona"
   ]
  },
  {
   "cell_type": "code",
   "execution_count": 21,
   "metadata": {},
   "outputs": [
    {
     "data": {
      "text/html": [
       "<div>\n",
       "<style scoped>\n",
       "    .dataframe tbody tr th:only-of-type {\n",
       "        vertical-align: middle;\n",
       "    }\n",
       "\n",
       "    .dataframe tbody tr th {\n",
       "        vertical-align: top;\n",
       "    }\n",
       "\n",
       "    .dataframe thead th {\n",
       "        text-align: right;\n",
       "    }\n",
       "</style>\n",
       "<table border=\"1\" class=\"dataframe\">\n",
       "  <thead>\n",
       "    <tr style=\"text-align: right;\">\n",
       "      <th></th>\n",
       "      <th>COUNTRY</th>\n",
       "      <th>SOURCE</th>\n",
       "      <th>SEX</th>\n",
       "      <th>AGE</th>\n",
       "      <th>PRICE</th>\n",
       "      <th>AGE_CAT</th>\n",
       "      <th>customers_level_based</th>\n",
       "    </tr>\n",
       "  </thead>\n",
       "  <tbody>\n",
       "    <tr>\n",
       "      <th>0</th>\n",
       "      <td>bra</td>\n",
       "      <td>android</td>\n",
       "      <td>male</td>\n",
       "      <td>46</td>\n",
       "      <td>59.0</td>\n",
       "      <td>31_40</td>\n",
       "      <td>BRA_ANDROID_MALE_31_40</td>\n",
       "    </tr>\n",
       "    <tr>\n",
       "      <th>1</th>\n",
       "      <td>usa</td>\n",
       "      <td>android</td>\n",
       "      <td>male</td>\n",
       "      <td>36</td>\n",
       "      <td>59.0</td>\n",
       "      <td>24_30</td>\n",
       "      <td>USA_ANDROID_MALE_24_30</td>\n",
       "    </tr>\n",
       "    <tr>\n",
       "      <th>2</th>\n",
       "      <td>fra</td>\n",
       "      <td>android</td>\n",
       "      <td>female</td>\n",
       "      <td>24</td>\n",
       "      <td>59.0</td>\n",
       "      <td>41_70</td>\n",
       "      <td>FRA_ANDROID_FEMALE_41_70</td>\n",
       "    </tr>\n",
       "    <tr>\n",
       "      <th>3</th>\n",
       "      <td>usa</td>\n",
       "      <td>ios</td>\n",
       "      <td>male</td>\n",
       "      <td>32</td>\n",
       "      <td>54.0</td>\n",
       "      <td>24_30</td>\n",
       "      <td>USA_IOS_MALE_24_30</td>\n",
       "    </tr>\n",
       "    <tr>\n",
       "      <th>4</th>\n",
       "      <td>deu</td>\n",
       "      <td>android</td>\n",
       "      <td>female</td>\n",
       "      <td>36</td>\n",
       "      <td>49.0</td>\n",
       "      <td>24_30</td>\n",
       "      <td>DEU_ANDROID_FEMALE_24_30</td>\n",
       "    </tr>\n",
       "    <tr>\n",
       "      <th>...</th>\n",
       "      <td>...</td>\n",
       "      <td>...</td>\n",
       "      <td>...</td>\n",
       "      <td>...</td>\n",
       "      <td>...</td>\n",
       "      <td>...</td>\n",
       "      <td>...</td>\n",
       "    </tr>\n",
       "    <tr>\n",
       "      <th>343</th>\n",
       "      <td>usa</td>\n",
       "      <td>ios</td>\n",
       "      <td>female</td>\n",
       "      <td>38</td>\n",
       "      <td>19.0</td>\n",
       "      <td>24_30</td>\n",
       "      <td>USA_IOS_FEMALE_24_30</td>\n",
       "    </tr>\n",
       "    <tr>\n",
       "      <th>344</th>\n",
       "      <td>usa</td>\n",
       "      <td>ios</td>\n",
       "      <td>female</td>\n",
       "      <td>30</td>\n",
       "      <td>19.0</td>\n",
       "      <td>41_70</td>\n",
       "      <td>USA_IOS_FEMALE_41_70</td>\n",
       "    </tr>\n",
       "    <tr>\n",
       "      <th>345</th>\n",
       "      <td>can</td>\n",
       "      <td>android</td>\n",
       "      <td>female</td>\n",
       "      <td>27</td>\n",
       "      <td>19.0</td>\n",
       "      <td>41_70</td>\n",
       "      <td>CAN_ANDROID_FEMALE_41_70</td>\n",
       "    </tr>\n",
       "    <tr>\n",
       "      <th>346</th>\n",
       "      <td>fra</td>\n",
       "      <td>android</td>\n",
       "      <td>male</td>\n",
       "      <td>18</td>\n",
       "      <td>19.0</td>\n",
       "      <td>0_18</td>\n",
       "      <td>FRA_ANDROID_MALE_0_18</td>\n",
       "    </tr>\n",
       "    <tr>\n",
       "      <th>347</th>\n",
       "      <td>deu</td>\n",
       "      <td>android</td>\n",
       "      <td>male</td>\n",
       "      <td>26</td>\n",
       "      <td>9.0</td>\n",
       "      <td>41_70</td>\n",
       "      <td>DEU_ANDROID_MALE_41_70</td>\n",
       "    </tr>\n",
       "  </tbody>\n",
       "</table>\n",
       "<p>348 rows × 7 columns</p>\n",
       "</div>"
      ],
      "text/plain": [
       "    COUNTRY   SOURCE     SEX  AGE  PRICE AGE_CAT     customers_level_based\n",
       "0       bra  android    male   46   59.0   31_40    BRA_ANDROID_MALE_31_40\n",
       "1       usa  android    male   36   59.0   24_30    USA_ANDROID_MALE_24_30\n",
       "2       fra  android  female   24   59.0   41_70  FRA_ANDROID_FEMALE_41_70\n",
       "3       usa      ios    male   32   54.0   24_30        USA_IOS_MALE_24_30\n",
       "4       deu  android  female   36   49.0   24_30  DEU_ANDROID_FEMALE_24_30\n",
       "..      ...      ...     ...  ...    ...     ...                       ...\n",
       "343     usa      ios  female   38   19.0   24_30      USA_IOS_FEMALE_24_30\n",
       "344     usa      ios  female   30   19.0   41_70      USA_IOS_FEMALE_41_70\n",
       "345     can  android  female   27   19.0   41_70  CAN_ANDROID_FEMALE_41_70\n",
       "346     fra  android    male   18   19.0    0_18     FRA_ANDROID_MALE_0_18\n",
       "347     deu  android    male   26    9.0   41_70    DEU_ANDROID_MALE_41_70\n",
       "\n",
       "[348 rows x 7 columns]"
      ]
     },
     "execution_count": 21,
     "metadata": {},
     "output_type": "execute_result"
    }
   ],
   "source": [
    "customer_level_based = list(map(lambda x: x[0].upper() + \"_\" + x[1].upper() + \"_\" + x[2].upper() + \"_\" + x[3].upper(), zip(agg_df[\"COUNTRY\"], agg_df[\"SOURCE\"], agg_df[\"SEX\"], agg_df[\"AGE_CAT\"])))\n",
    "agg_df[\"customers_level_based\"] = customer_level_based\n",
    "agg_df"
   ]
  },
  {
   "cell_type": "code",
   "execution_count": 22,
   "metadata": {},
   "outputs": [
    {
     "data": {
      "text/html": [
       "<div>\n",
       "<style scoped>\n",
       "    .dataframe tbody tr th:only-of-type {\n",
       "        vertical-align: middle;\n",
       "    }\n",
       "\n",
       "    .dataframe tbody tr th {\n",
       "        vertical-align: top;\n",
       "    }\n",
       "\n",
       "    .dataframe thead th {\n",
       "        text-align: right;\n",
       "    }\n",
       "</style>\n",
       "<table border=\"1\" class=\"dataframe\">\n",
       "  <thead>\n",
       "    <tr style=\"text-align: right;\">\n",
       "      <th></th>\n",
       "      <th>PRICE</th>\n",
       "      <th>customers_level_based</th>\n",
       "    </tr>\n",
       "  </thead>\n",
       "  <tbody>\n",
       "    <tr>\n",
       "      <th>0</th>\n",
       "      <td>59.0</td>\n",
       "      <td>BRA_ANDROID_MALE_31_40</td>\n",
       "    </tr>\n",
       "    <tr>\n",
       "      <th>1</th>\n",
       "      <td>59.0</td>\n",
       "      <td>USA_ANDROID_MALE_24_30</td>\n",
       "    </tr>\n",
       "    <tr>\n",
       "      <th>2</th>\n",
       "      <td>59.0</td>\n",
       "      <td>FRA_ANDROID_FEMALE_41_70</td>\n",
       "    </tr>\n",
       "    <tr>\n",
       "      <th>3</th>\n",
       "      <td>54.0</td>\n",
       "      <td>USA_IOS_MALE_24_30</td>\n",
       "    </tr>\n",
       "    <tr>\n",
       "      <th>4</th>\n",
       "      <td>49.0</td>\n",
       "      <td>DEU_ANDROID_FEMALE_24_30</td>\n",
       "    </tr>\n",
       "    <tr>\n",
       "      <th>...</th>\n",
       "      <td>...</td>\n",
       "      <td>...</td>\n",
       "    </tr>\n",
       "    <tr>\n",
       "      <th>343</th>\n",
       "      <td>19.0</td>\n",
       "      <td>USA_IOS_FEMALE_24_30</td>\n",
       "    </tr>\n",
       "    <tr>\n",
       "      <th>344</th>\n",
       "      <td>19.0</td>\n",
       "      <td>USA_IOS_FEMALE_41_70</td>\n",
       "    </tr>\n",
       "    <tr>\n",
       "      <th>345</th>\n",
       "      <td>19.0</td>\n",
       "      <td>CAN_ANDROID_FEMALE_41_70</td>\n",
       "    </tr>\n",
       "    <tr>\n",
       "      <th>346</th>\n",
       "      <td>19.0</td>\n",
       "      <td>FRA_ANDROID_MALE_0_18</td>\n",
       "    </tr>\n",
       "    <tr>\n",
       "      <th>347</th>\n",
       "      <td>9.0</td>\n",
       "      <td>DEU_ANDROID_MALE_41_70</td>\n",
       "    </tr>\n",
       "  </tbody>\n",
       "</table>\n",
       "<p>348 rows × 2 columns</p>\n",
       "</div>"
      ],
      "text/plain": [
       "     PRICE     customers_level_based\n",
       "0     59.0    BRA_ANDROID_MALE_31_40\n",
       "1     59.0    USA_ANDROID_MALE_24_30\n",
       "2     59.0  FRA_ANDROID_FEMALE_41_70\n",
       "3     54.0        USA_IOS_MALE_24_30\n",
       "4     49.0  DEU_ANDROID_FEMALE_24_30\n",
       "..     ...                       ...\n",
       "343   19.0      USA_IOS_FEMALE_24_30\n",
       "344   19.0      USA_IOS_FEMALE_41_70\n",
       "345   19.0  CAN_ANDROID_FEMALE_41_70\n",
       "346   19.0     FRA_ANDROID_MALE_0_18\n",
       "347    9.0    DEU_ANDROID_MALE_41_70\n",
       "\n",
       "[348 rows x 2 columns]"
      ]
     },
     "execution_count": 22,
     "metadata": {},
     "output_type": "execute_result"
    }
   ],
   "source": [
    "agg_df = agg_df.drop(\"AGE\", axis=1)\n",
    "agg_df = agg_df.drop(\"COUNTRY\", axis=1)\n",
    "agg_df = agg_df.drop(\"SEX\", axis=1)\n",
    "agg_df = agg_df.drop(\"SOURCE\", axis=1)\n",
    "agg_df = agg_df.drop(\"AGE_CAT\", axis=1)\n",
    "agg_df"
   ]
  },
  {
   "cell_type": "code",
   "execution_count": 23,
   "metadata": {},
   "outputs": [
    {
     "data": {
      "text/html": [
       "<div>\n",
       "<style scoped>\n",
       "    .dataframe tbody tr th:only-of-type {\n",
       "        vertical-align: middle;\n",
       "    }\n",
       "\n",
       "    .dataframe tbody tr th {\n",
       "        vertical-align: top;\n",
       "    }\n",
       "\n",
       "    .dataframe thead th {\n",
       "        text-align: right;\n",
       "    }\n",
       "</style>\n",
       "<table border=\"1\" class=\"dataframe\">\n",
       "  <thead>\n",
       "    <tr style=\"text-align: right;\">\n",
       "      <th></th>\n",
       "      <th>customers_level_based</th>\n",
       "      <th>PRICE</th>\n",
       "    </tr>\n",
       "  </thead>\n",
       "  <tbody>\n",
       "    <tr>\n",
       "      <th>0</th>\n",
       "      <td>BRA_ANDROID_MALE_31_40</td>\n",
       "      <td>59.0</td>\n",
       "    </tr>\n",
       "    <tr>\n",
       "      <th>1</th>\n",
       "      <td>USA_ANDROID_MALE_24_30</td>\n",
       "      <td>59.0</td>\n",
       "    </tr>\n",
       "    <tr>\n",
       "      <th>2</th>\n",
       "      <td>FRA_ANDROID_FEMALE_41_70</td>\n",
       "      <td>59.0</td>\n",
       "    </tr>\n",
       "    <tr>\n",
       "      <th>3</th>\n",
       "      <td>USA_IOS_MALE_24_30</td>\n",
       "      <td>54.0</td>\n",
       "    </tr>\n",
       "    <tr>\n",
       "      <th>4</th>\n",
       "      <td>DEU_ANDROID_FEMALE_24_30</td>\n",
       "      <td>49.0</td>\n",
       "    </tr>\n",
       "    <tr>\n",
       "      <th>...</th>\n",
       "      <td>...</td>\n",
       "      <td>...</td>\n",
       "    </tr>\n",
       "    <tr>\n",
       "      <th>343</th>\n",
       "      <td>USA_IOS_FEMALE_24_30</td>\n",
       "      <td>19.0</td>\n",
       "    </tr>\n",
       "    <tr>\n",
       "      <th>344</th>\n",
       "      <td>USA_IOS_FEMALE_41_70</td>\n",
       "      <td>19.0</td>\n",
       "    </tr>\n",
       "    <tr>\n",
       "      <th>345</th>\n",
       "      <td>CAN_ANDROID_FEMALE_41_70</td>\n",
       "      <td>19.0</td>\n",
       "    </tr>\n",
       "    <tr>\n",
       "      <th>346</th>\n",
       "      <td>FRA_ANDROID_MALE_0_18</td>\n",
       "      <td>19.0</td>\n",
       "    </tr>\n",
       "    <tr>\n",
       "      <th>347</th>\n",
       "      <td>DEU_ANDROID_MALE_41_70</td>\n",
       "      <td>9.0</td>\n",
       "    </tr>\n",
       "  </tbody>\n",
       "</table>\n",
       "<p>348 rows × 2 columns</p>\n",
       "</div>"
      ],
      "text/plain": [
       "        customers_level_based  PRICE\n",
       "0      BRA_ANDROID_MALE_31_40   59.0\n",
       "1      USA_ANDROID_MALE_24_30   59.0\n",
       "2    FRA_ANDROID_FEMALE_41_70   59.0\n",
       "3          USA_IOS_MALE_24_30   54.0\n",
       "4    DEU_ANDROID_FEMALE_24_30   49.0\n",
       "..                        ...    ...\n",
       "343      USA_IOS_FEMALE_24_30   19.0\n",
       "344      USA_IOS_FEMALE_41_70   19.0\n",
       "345  CAN_ANDROID_FEMALE_41_70   19.0\n",
       "346     FRA_ANDROID_MALE_0_18   19.0\n",
       "347    DEU_ANDROID_MALE_41_70    9.0\n",
       "\n",
       "[348 rows x 2 columns]"
      ]
     },
     "execution_count": 23,
     "metadata": {},
     "output_type": "execute_result"
    }
   ],
   "source": [
    "agg_df = agg_df[[\"customers_level_based\", \"PRICE\"]]\n",
    "agg_df"
   ]
  },
  {
   "cell_type": "markdown",
   "metadata": {},
   "source": [
    "I make customers level based categorized on the above."
   ]
  },
  {
   "cell_type": "code",
   "execution_count": 24,
   "metadata": {},
   "outputs": [
    {
     "name": "stderr",
     "output_type": "stream",
     "text": [
      "C:\\Users\\talha\\AppData\\Local\\Temp\\ipykernel_20936\\909438926.py:2: SettingWithCopyWarning: \n",
      "A value is trying to be set on a copy of a slice from a DataFrame.\n",
      "Try using .loc[row_indexer,col_indexer] = value instead\n",
      "\n",
      "See the caveats in the documentation: https://pandas.pydata.org/pandas-docs/stable/user_guide/indexing.html#returning-a-view-versus-a-copy\n",
      "  agg_df[\"SEGMENT\"] = segments\n"
     ]
    },
    {
     "data": {
      "text/html": [
       "<div>\n",
       "<style scoped>\n",
       "    .dataframe tbody tr th:only-of-type {\n",
       "        vertical-align: middle;\n",
       "    }\n",
       "\n",
       "    .dataframe tbody tr th {\n",
       "        vertical-align: top;\n",
       "    }\n",
       "\n",
       "    .dataframe thead th {\n",
       "        text-align: right;\n",
       "    }\n",
       "</style>\n",
       "<table border=\"1\" class=\"dataframe\">\n",
       "  <thead>\n",
       "    <tr style=\"text-align: right;\">\n",
       "      <th></th>\n",
       "      <th>customers_level_based</th>\n",
       "      <th>PRICE</th>\n",
       "      <th>SEGMENT</th>\n",
       "    </tr>\n",
       "  </thead>\n",
       "  <tbody>\n",
       "    <tr>\n",
       "      <th>0</th>\n",
       "      <td>BRA_ANDROID_MALE_31_40</td>\n",
       "      <td>59.0</td>\n",
       "      <td>A</td>\n",
       "    </tr>\n",
       "    <tr>\n",
       "      <th>1</th>\n",
       "      <td>USA_ANDROID_MALE_24_30</td>\n",
       "      <td>59.0</td>\n",
       "      <td>A</td>\n",
       "    </tr>\n",
       "    <tr>\n",
       "      <th>2</th>\n",
       "      <td>FRA_ANDROID_FEMALE_41_70</td>\n",
       "      <td>59.0</td>\n",
       "      <td>A</td>\n",
       "    </tr>\n",
       "    <tr>\n",
       "      <th>3</th>\n",
       "      <td>USA_IOS_MALE_24_30</td>\n",
       "      <td>54.0</td>\n",
       "      <td>A</td>\n",
       "    </tr>\n",
       "    <tr>\n",
       "      <th>4</th>\n",
       "      <td>DEU_ANDROID_FEMALE_24_30</td>\n",
       "      <td>49.0</td>\n",
       "      <td>A</td>\n",
       "    </tr>\n",
       "    <tr>\n",
       "      <th>...</th>\n",
       "      <td>...</td>\n",
       "      <td>...</td>\n",
       "      <td>...</td>\n",
       "    </tr>\n",
       "    <tr>\n",
       "      <th>343</th>\n",
       "      <td>USA_IOS_FEMALE_24_30</td>\n",
       "      <td>19.0</td>\n",
       "      <td>D</td>\n",
       "    </tr>\n",
       "    <tr>\n",
       "      <th>344</th>\n",
       "      <td>USA_IOS_FEMALE_41_70</td>\n",
       "      <td>19.0</td>\n",
       "      <td>D</td>\n",
       "    </tr>\n",
       "    <tr>\n",
       "      <th>345</th>\n",
       "      <td>CAN_ANDROID_FEMALE_41_70</td>\n",
       "      <td>19.0</td>\n",
       "      <td>D</td>\n",
       "    </tr>\n",
       "    <tr>\n",
       "      <th>346</th>\n",
       "      <td>FRA_ANDROID_MALE_0_18</td>\n",
       "      <td>19.0</td>\n",
       "      <td>D</td>\n",
       "    </tr>\n",
       "    <tr>\n",
       "      <th>347</th>\n",
       "      <td>DEU_ANDROID_MALE_41_70</td>\n",
       "      <td>9.0</td>\n",
       "      <td>D</td>\n",
       "    </tr>\n",
       "  </tbody>\n",
       "</table>\n",
       "<p>348 rows × 3 columns</p>\n",
       "</div>"
      ],
      "text/plain": [
       "        customers_level_based  PRICE SEGMENT\n",
       "0      BRA_ANDROID_MALE_31_40   59.0       A\n",
       "1      USA_ANDROID_MALE_24_30   59.0       A\n",
       "2    FRA_ANDROID_FEMALE_41_70   59.0       A\n",
       "3          USA_IOS_MALE_24_30   54.0       A\n",
       "4    DEU_ANDROID_FEMALE_24_30   49.0       A\n",
       "..                        ...    ...     ...\n",
       "343      USA_IOS_FEMALE_24_30   19.0       D\n",
       "344      USA_IOS_FEMALE_41_70   19.0       D\n",
       "345  CAN_ANDROID_FEMALE_41_70   19.0       D\n",
       "346     FRA_ANDROID_MALE_0_18   19.0       D\n",
       "347    DEU_ANDROID_MALE_41_70    9.0       D\n",
       "\n",
       "[348 rows x 3 columns]"
      ]
     },
     "execution_count": 24,
     "metadata": {},
     "output_type": "execute_result"
    }
   ],
   "source": [
    "segments = pd.qcut(agg_df[\"PRICE\"], 4, labels=[\"D\", \"C\", \"B\", \"A\"])\n",
    "agg_df[\"SEGMENT\"] = segments\n",
    "agg_df"
   ]
  },
  {
   "cell_type": "markdown",
   "metadata": {},
   "source": [
    "I set to segmentation for the customers here."
   ]
  },
  {
   "cell_type": "code",
   "execution_count": 25,
   "metadata": {},
   "outputs": [
    {
     "data": {
      "text/html": [
       "<div>\n",
       "<style scoped>\n",
       "    .dataframe tbody tr th:only-of-type {\n",
       "        vertical-align: middle;\n",
       "    }\n",
       "\n",
       "    .dataframe tbody tr th {\n",
       "        vertical-align: top;\n",
       "    }\n",
       "\n",
       "    .dataframe thead tr th {\n",
       "        text-align: left;\n",
       "    }\n",
       "\n",
       "    .dataframe thead tr:last-of-type th {\n",
       "        text-align: right;\n",
       "    }\n",
       "</style>\n",
       "<table border=\"1\" class=\"dataframe\">\n",
       "  <thead>\n",
       "    <tr>\n",
       "      <th></th>\n",
       "      <th colspan=\"4\" halign=\"left\">PRICE</th>\n",
       "    </tr>\n",
       "    <tr>\n",
       "      <th></th>\n",
       "      <th>mean</th>\n",
       "      <th>min</th>\n",
       "      <th>max</th>\n",
       "      <th>sum</th>\n",
       "    </tr>\n",
       "    <tr>\n",
       "      <th>SEGMENT</th>\n",
       "      <th></th>\n",
       "      <th></th>\n",
       "      <th></th>\n",
       "      <th></th>\n",
       "    </tr>\n",
       "  </thead>\n",
       "  <tbody>\n",
       "    <tr>\n",
       "      <th>D</th>\n",
       "      <td>27.302596</td>\n",
       "      <td>9.000000</td>\n",
       "      <td>31.105263</td>\n",
       "      <td>2375.325850</td>\n",
       "    </tr>\n",
       "    <tr>\n",
       "      <th>C</th>\n",
       "      <td>32.933339</td>\n",
       "      <td>31.173913</td>\n",
       "      <td>34.000000</td>\n",
       "      <td>3128.667165</td>\n",
       "    </tr>\n",
       "    <tr>\n",
       "      <th>B</th>\n",
       "      <td>35.436170</td>\n",
       "      <td>34.185185</td>\n",
       "      <td>37.000000</td>\n",
       "      <td>2870.329792</td>\n",
       "    </tr>\n",
       "    <tr>\n",
       "      <th>A</th>\n",
       "      <td>41.434736</td>\n",
       "      <td>37.095238</td>\n",
       "      <td>59.000000</td>\n",
       "      <td>3521.952577</td>\n",
       "    </tr>\n",
       "  </tbody>\n",
       "</table>\n",
       "</div>"
      ],
      "text/plain": [
       "             PRICE                                   \n",
       "              mean        min        max          sum\n",
       "SEGMENT                                              \n",
       "D        27.302596   9.000000  31.105263  2375.325850\n",
       "C        32.933339  31.173913  34.000000  3128.667165\n",
       "B        35.436170  34.185185  37.000000  2870.329792\n",
       "A        41.434736  37.095238  59.000000  3521.952577"
      ]
     },
     "execution_count": 25,
     "metadata": {},
     "output_type": "execute_result"
    }
   ],
   "source": [
    "agg_df.groupby(\"SEGMENT\").agg({\"PRICE\": [\"mean\", \"min\", \"max\", \"sum\"]})"
   ]
  },
  {
   "cell_type": "markdown",
   "metadata": {},
   "source": [
    "In this output, we can see mean, min, max, sum of segments."
   ]
  },
  {
   "cell_type": "markdown",
   "metadata": {},
   "source": [
    "### New Users Income Check"
   ]
  },
  {
   "cell_type": "code",
   "execution_count": 28,
   "metadata": {},
   "outputs": [],
   "source": [
    "def calculate_income_from_user(country, source, sex, age):\n",
    "    user = country.upper() + \"_\" + source.upper() + \"_\" + sex.upper() + \"_\" + set_age_range(age)\n",
    "\n",
    "    return agg_df[agg_df[\"customers_level_based\"] == user]"
   ]
  },
  {
   "cell_type": "code",
   "execution_count": 29,
   "metadata": {},
   "outputs": [
    {
     "data": {
      "text/html": [
       "<div>\n",
       "<style scoped>\n",
       "    .dataframe tbody tr th:only-of-type {\n",
       "        vertical-align: middle;\n",
       "    }\n",
       "\n",
       "    .dataframe tbody tr th {\n",
       "        vertical-align: top;\n",
       "    }\n",
       "\n",
       "    .dataframe thead th {\n",
       "        text-align: right;\n",
       "    }\n",
       "</style>\n",
       "<table border=\"1\" class=\"dataframe\">\n",
       "  <thead>\n",
       "    <tr style=\"text-align: right;\">\n",
       "      <th></th>\n",
       "      <th>customers_level_based</th>\n",
       "      <th>PRICE</th>\n",
       "      <th>SEGMENT</th>\n",
       "    </tr>\n",
       "  </thead>\n",
       "  <tbody>\n",
       "    <tr>\n",
       "      <th>18</th>\n",
       "      <td>TUR_ANDROID_FEMALE_24_30</td>\n",
       "      <td>43.000000</td>\n",
       "      <td>A</td>\n",
       "    </tr>\n",
       "    <tr>\n",
       "      <th>35</th>\n",
       "      <td>TUR_ANDROID_FEMALE_24_30</td>\n",
       "      <td>40.666667</td>\n",
       "      <td>A</td>\n",
       "    </tr>\n",
       "  </tbody>\n",
       "</table>\n",
       "</div>"
      ],
      "text/plain": [
       "       customers_level_based      PRICE SEGMENT\n",
       "18  TUR_ANDROID_FEMALE_24_30  43.000000       A\n",
       "35  TUR_ANDROID_FEMALE_24_30  40.666667       A"
      ]
     },
     "execution_count": 29,
     "metadata": {},
     "output_type": "execute_result"
    }
   ],
   "source": [
    "calculate_income_from_user(\"tur\", \"android\", \"female\", 33)"
   ]
  },
  {
   "cell_type": "code",
   "execution_count": 30,
   "metadata": {},
   "outputs": [
    {
     "data": {
      "text/html": [
       "<div>\n",
       "<style scoped>\n",
       "    .dataframe tbody tr th:only-of-type {\n",
       "        vertical-align: middle;\n",
       "    }\n",
       "\n",
       "    .dataframe tbody tr th {\n",
       "        vertical-align: top;\n",
       "    }\n",
       "\n",
       "    .dataframe thead th {\n",
       "        text-align: right;\n",
       "    }\n",
       "</style>\n",
       "<table border=\"1\" class=\"dataframe\">\n",
       "  <thead>\n",
       "    <tr style=\"text-align: right;\">\n",
       "      <th></th>\n",
       "      <th>customers_level_based</th>\n",
       "      <th>PRICE</th>\n",
       "      <th>SEGMENT</th>\n",
       "    </tr>\n",
       "  </thead>\n",
       "  <tbody>\n",
       "    <tr>\n",
       "      <th>185</th>\n",
       "      <td>FRA_ANDROID_FEMALE_24_30</td>\n",
       "      <td>34.0</td>\n",
       "      <td>C</td>\n",
       "    </tr>\n",
       "  </tbody>\n",
       "</table>\n",
       "</div>"
      ],
      "text/plain": [
       "        customers_level_based  PRICE SEGMENT\n",
       "185  FRA_ANDROID_FEMALE_24_30   34.0       C"
      ]
     },
     "execution_count": 30,
     "metadata": {},
     "output_type": "execute_result"
    }
   ],
   "source": [
    "calculate_income_from_user(\"fra\", \"android\", \"female\", 35)"
   ]
  }
 ],
 "metadata": {
  "kernelspec": {
   "display_name": "Python 3.10.0 64-bit",
   "language": "python",
   "name": "python3"
  },
  "language_info": {
   "codemirror_mode": {
    "name": "ipython",
    "version": 3
   },
   "file_extension": ".py",
   "mimetype": "text/x-python",
   "name": "python",
   "nbconvert_exporter": "python",
   "pygments_lexer": "ipython3",
   "version": "3.10.0"
  },
  "orig_nbformat": 4,
  "vscode": {
   "interpreter": {
    "hash": "a82f5c6bcc522c8fbcda74bfdd65d0080b96ee61c66e4e6f166892b35c330c9e"
   }
  }
 },
 "nbformat": 4,
 "nbformat_minor": 2
}
